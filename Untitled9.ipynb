{
  "nbformat": 4,
  "nbformat_minor": 0,
  "metadata": {
    "colab": {
      "provenance": []
    },
    "kernelspec": {
      "name": "python3",
      "display_name": "Python 3"
    },
    "language_info": {
      "name": "python"
    }
  },
  "cells": [
    {
      "cell_type": "code",
      "execution_count": null,
      "metadata": {
        "colab": {
          "base_uri": "https://localhost:8080/",
          "height": 106
        },
        "id": "6duvOi5DYIJe",
        "outputId": "ab731ec7-e09c-4086-b260-fc8864187dad"
      },
      "outputs": [
        {
          "output_type": "error",
          "ename": "SyntaxError",
          "evalue": "invalid syntax (<ipython-input-64-41811e02a6a9>, line 5)",
          "traceback": [
            "\u001b[0;36m  File \u001b[0;32m\"<ipython-input-64-41811e02a6a9>\"\u001b[0;36m, line \u001b[0;32m5\u001b[0m\n\u001b[0;31m    while < 0 or nota > 10:\u001b[0m\n\u001b[0m          ^\u001b[0m\n\u001b[0;31mSyntaxError\u001b[0m\u001b[0;31m:\u001b[0m invalid syntax\n"
          ]
        }
      ],
      "source": [
        "#1. Faça um programa que peça uma nota, entre zero e dez. Mostre uma mensagem\n",
        "#caso o valor seja inválido e continue pedindo até que o usuário informe um valor\n",
        "#válido\n",
        "nota = float(input(\"digite uma nota entre zero e dez\"))\n",
        "while < 0 or nota > 10:\n",
        "  nota = float(input(\"digite uma nota entre zero e dez\"))\n",
        "print(\"valor valido\")"
      ]
    },
    {
      "cell_type": "code",
      "source": [
        "#2. Faça um programa que calcule o mostre a média aritmética de N notas.\n",
        "n = float(input(\"calcule e mostre a media aritmetica de n notas\"))\n",
        "media = 0\n",
        "while n >= 10:\n",
        " media +=1\n",
        "print(\"reprovado\")\n"
      ],
      "metadata": {
        "id": "13feQbcBdoD8"
      },
      "execution_count": null,
      "outputs": []
    },
    {
      "cell_type": "code",
      "source": [
        "#3. Faça um programa que leia um nome de usuário e a sua senha e não aceite a\n",
        "#senha igual ao nome do usuário, mostrando uma mensagem de erro e voltando a\n",
        "#pedir as informações.\n",
        "\n",
        "nome = str(input(\"insira seu nome de usuario\"))\n",
        "senha = str (input(\"digite sua senha\"))\n",
        "while senha == nome:\n",
        "  print(\"erro, insira novamente o nome e a senha\")\n",
        "\n",
        "\n",
        "\n"
      ],
      "metadata": {
        "id": "zbBkNgrKtq1X"
      },
      "execution_count": null,
      "outputs": []
    },
    {
      "cell_type": "code",
      "source": [
        "#exercicio6\n",
        "paisA = 80000\n",
        "paisB = 200000\n",
        "taxaA = 0.3\n",
        "taxaB = 0.015\n",
        "anos = 0\n",
        "while paisA < paisB:\n",
        "  paisA += 1 + taxaA/ 100\n",
        "  paisB += 1 +taxaB/ 100\n",
        "  anos += 1\n",
        "print(\"o número de anos para que País A ultrapasse o País B é: \", anos)\n"
      ],
      "metadata": {
        "id": "8GZwiP4U5hGj"
      },
      "execution_count": null,
      "outputs": []
    },
    {
      "cell_type": "code",
      "source": [
        "#7. Faça um programa que calcule o fatorial de um número inteiro fornecido pelo\n",
        "#usuário. Ex.: 5!=5.4.3.2.1=120\n",
        "numero = int(input(\"digite um numero\"))\n",
        "fatorial = 0\n",
        "while numero * fatorial:\n",
        "  print(fatorial)"
      ],
      "metadata": {
        "id": "pv49pTpbCRnP"
      },
      "execution_count": null,
      "outputs": []
    },
    {
      "cell_type": "code",
      "source": [
        "#exercicio5\n",
        "nome = input(\"digite seu nome: \")\n",
        "while len(nome) <3:\n",
        "  print(\"o nome precisa ter mais caracteres\")\n",
        "  nome = str(input(\"digite seu nome: \"))\n",
        "print(\"Seu nome é:\", nome)\n",
        "idade = int(input(\"digite sua idade: \"))\n",
        "while idade > 0 or idade < 150:\n",
        " salario = float(input(\"digite o seu salario: \"))\n",
        "while salario > 0:\n",
        "  print(\"so faltam mais algumas informacoes\")\n",
        "sexo = str(input(\"digite f para feminino ou m para masculino\"))\n",
        "while sexo is not \" f/m\":\n",
        " estadocivil = str(input(\"digite s, c, v, d \"))\n",
        "while estadocivil is not \" s/c/v/d\":\n",
        "  print(\"cadastro realizado\")"
      ],
      "metadata": {
        "id": "4gV68Gip9qNy"
      },
      "execution_count": null,
      "outputs": []
    },
    {
      "cell_type": "code",
      "source": [
        "#8. Faça um programa que solicite ao usuário números indefinidamente até que ele\n",
        "#digite 0. Em seguida, o programa deve imprimir a média dos números digitados.\n",
        "numero = float(input(\"insira um numero\"))\n",
        "soma = 0\n",
        "while numero !=0:\n",
        "  soma += numero\n",
        "  numero = float(input(\"insira um numero\"))\n",
        "  print(soma)\n"
      ],
      "metadata": {
        "id": "xHYm0css4gfX"
      },
      "execution_count": 88,
      "outputs": []
    },
    {
      "cell_type": "code",
      "source": [
        "#9. A série de Fibonacci é formada pela sequência 1,1,2,3,5,8,13,21,34,55,... Faça um\n",
        "#programa capaz de gerar a série até o n−ésimo termo.\n",
        "numero = int(input(\"faca progrma capaz de gerar a serie ate o n-esimo termo\" ))"
      ],
      "metadata": {
        "id": "_IkaTkhTCZcM"
      },
      "execution_count": null,
      "outputs": []
    },
    {
      "cell_type": "code",
      "source": [
        "#10. O Sr. Manoel Joaquim expandiu seus negócios para além dos negócios de 1,99 e\n",
        "#agora possui uma loja de conveniências. Faça um programa que implemente uma\n",
        "#caixa registradora rudimentar."
      ],
      "metadata": {
        "id": "z6dz8XqJCa00"
      },
      "execution_count": null,
      "outputs": []
    },
    {
      "cell_type": "code",
      "source": [
        "#11. O cardápio de uma lanchonete é o seguinte:"
      ],
      "metadata": {
        "id": "F8cyJZq_Chxo"
      },
      "execution_count": null,
      "outputs": []
    },
    {
      "cell_type": "code",
      "source": [
        "#12. Em uma eleição presidencial existem quatro candidatos. Os votos são informados\n",
        "#por meio de código.\n",
        "#Os códigos utilizados são:\n",
        "# 1, 2, 3, 4 - Votos para os respectivos candidatos\n",
        "# (você deve montar a tabela ex: 1 - Jose/ 2- João/etc)\n",
        "# 5 - Voto Nulo\n",
        "# 6 - Voto em Branco\n",
        "\n",
        "jose1 = 0\n",
        "joao2 = 0\n",
        "mauro3 = 0\n",
        "claudio4 = 0\n",
        "votonulo = 0\n",
        "votobranco = 0\n",
        "voto = str(input(\"digite o nome do eleitor: \"))\n",
        "while voto != jose1:\n",
        "  jose1 +=1\n",
        "print(\"voce votou em jose1\")\n",
        "while voto != joao2:\n",
        "  joao2 +=1\n",
        "print(\"voce votou em joao2\")\n",
        "while voto != mauro3:\n",
        "  mauro3 +=1\n",
        "print(\"voce votou em mauro3\")\n",
        "while voto != claudio4:\n",
        "  claudio4 +=1\n",
        "print(\"voce votou em claudio\")\n",
        "while voto != votonulo:\n",
        "  votonulo +=1\n",
        "print (\"voce votou nulo\")\n",
        "while voto != votobranco:\n",
        "  votobranco +=1\n",
        "print(\"voce votou branco\")\n"
      ],
      "metadata": {
        "id": "AMe2b-JWCieu"
      },
      "execution_count": null,
      "outputs": []
    }
  ]
}